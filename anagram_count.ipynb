{
  "nbformat": 4,
  "nbformat_minor": 0,
  "metadata": {
    "colab": {
      "name": "anagram_count.ipynb",
      "provenance": [],
      "authorship_tag": "ABX9TyM0sMdP3WyJu6fqyak49z8Q",
      "include_colab_link": true
    },
    "kernelspec": {
      "name": "python3",
      "display_name": "Python 3"
    },
    "language_info": {
      "name": "python"
    }
  },
  "cells": [
    {
      "cell_type": "markdown",
      "metadata": {
        "id": "view-in-github",
        "colab_type": "text"
      },
      "source": [
        "<a href=\"https://colab.research.google.com/github/Nur-A-Alam1997/Problem_solving/blob/main/anagram_count.ipynb\" target=\"_parent\"><img src=\"https://colab.research.google.com/assets/colab-badge.svg\" alt=\"Open In Colab\"/></a>"
      ]
    },
    {
      "cell_type": "code",
      "metadata": {
        "colab": {
          "base_uri": "https://localhost:8080/"
        },
        "id": "nfADJupwLaDj",
        "outputId": "a16fea17-fb98-4ea9-cb4d-eeb93154ef7a"
      },
      "source": [
        "s1=\"forxxorfxdofr\"\n",
        "s2=\"for\"\n",
        "\n",
        "arr=len(s1)*[0]\n",
        "\n",
        "for i in range(len(s1)):\n",
        "    if s1[i] in s2:\n",
        "        arr[i]=ord(s1[i])\n",
        "# print(arr)\n",
        "\n",
        "value1=0\n",
        "for i in range(len(s2)):\n",
        "        value1+=ord(s2[i])\n",
        "# print(value1)\n",
        "\n",
        "value2=0\n",
        "n=0\n",
        "while (n < (len(s2))):\n",
        "    value2+=arr[n]\n",
        "    # print(value2)\n",
        "    n+=1\n",
        "# print(n,value2)\n",
        "\n",
        "c=0\n",
        "while (n-1 < (len(s1))):\n",
        "\n",
        "    if (value1 == value2 and n< len(s1)):\n",
        "        c+=1\n",
        "        print(\"hey\",n,c)\n",
        "        value2=value2-arr[n-(len(s2))]     \n",
        "        value2=value2+arr[n]\n",
        "        n+=1\n",
        "        \n",
        "\n",
        "    elif (value1 == value2 and n== len(s1)) :\n",
        "        c+=1\n",
        "        print(\"hey elif\",n)\n",
        "        break\n",
        "    else:\n",
        "        value2=value2-arr[n-(len(s2))]\n",
        "        value2=value2+arr[n]\n",
        "        n+=1\n",
        "\n",
        "print(c)"
      ],
      "execution_count": 89,
      "outputs": [
        {
          "output_type": "stream",
          "text": [
            "hey 3 1\n",
            "hey 8 2\n",
            "hey elif 13\n",
            "3\n"
          ],
          "name": "stdout"
        }
      ]
    },
    {
      "cell_type": "code",
      "metadata": {
        "id": "rYRviJbTdrht"
      },
      "source": [
        ""
      ],
      "execution_count": null,
      "outputs": []
    },
    {
      "cell_type": "code",
      "metadata": {
        "id": "DzI81vvwVbkX"
      },
      "source": [
        ""
      ],
      "execution_count": null,
      "outputs": []
    }
  ]
}
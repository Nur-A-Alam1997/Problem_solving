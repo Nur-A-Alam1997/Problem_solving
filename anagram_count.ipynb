{
  "nbformat": 4,
  "nbformat_minor": 0,
  "metadata": {
    "colab": {
      "name": "anagram_count.ipynb",
      "provenance": [],
      "authorship_tag": "ABX9TyNzphJZZx02kuKFQKa1JWep",
      "include_colab_link": true
    },
    "kernelspec": {
      "name": "python3",
      "display_name": "Python 3"
    },
    "language_info": {
      "name": "python"
    }
  },
  "cells": [
    {
      "cell_type": "markdown",
      "metadata": {
        "id": "view-in-github",
        "colab_type": "text"
      },
      "source": [
        "<a href=\"https://colab.research.google.com/github/Nur-A-Alam1997/Problem_solving/blob/main/anagram_count.ipynb\" target=\"_parent\"><img src=\"https://colab.research.google.com/assets/colab-badge.svg\" alt=\"Open In Colab\"/></a>"
      ]
    },
    {
      "cell_type": "code",
      "metadata": {
        "id": "DzI81vvwVbkX",
        "colab": {
          "base_uri": "https://localhost:8080/"
        },
        "outputId": "ec8a2ca2-ebfe-4a58-b35b-cd5d9294328d"
      },
      "source": [
        "s1=\"fororfrdofr\"\n",
        "s2=\"for\"\n",
        "\n",
        "arr=len(s1)*[0]\n",
        "\n",
        "for i in range(len(s1)):\n",
        "    if s1[i] in s2:\n",
        "        arr[i]=ord(s1[i])\n",
        "# print(arr)\n",
        "\n",
        "value1=0\n",
        "for i in range(len(s2)):\n",
        "        value1+=ord(s2[i])\n",
        "# print(value1)\n",
        "\n",
        "value2=0\n",
        "n=0\n",
        "while (n < (len(s2))): #count \n",
        "    value2+=arr[n]\n",
        "    n+=1\n",
        "c=0\n",
        "if value1 == value2:\n",
        "    c=1\n",
        "\n",
        "for i in range(len(s2), len(s1)):\n",
        "    value2-=arr[i-len(s2)]\n",
        "    value2+=arr[i]\n",
        "    if value1 == value2:\n",
        "        c+=1\n",
        "print(c)"
      ],
      "execution_count": 212,
      "outputs": [
        {
          "output_type": "stream",
          "text": [
            "3\n"
          ],
          "name": "stdout"
        }
      ]
    }
  ]
}
{
  "nbformat": 4,
  "nbformat_minor": 0,
  "metadata": {
    "colab": {
      "name": "probSolving1.ipynb",
      "provenance": [],
      "collapsed_sections": [],
      "authorship_tag": "ABX9TyPaJWiIdtPecDptVtwbpCGz"
    },
    "kernelspec": {
      "name": "python3",
      "display_name": "Python 3"
    },
    "language_info": {
      "name": "python"
    }
  },
  "cells": [
    {
      "cell_type": "code",
      "metadata": {
        "colab": {
          "base_uri": "https://localhost:8080/"
        },
        "id": "JkaJfhxelVgA",
        "outputId": "dad14e5f-7b6d-4b0a-c5a5-9a36d00436de"
      },
      "source": [
        "arr=[1,2,3,4,-2,-1,8]\n",
        "\n",
        "maxi =arr[0]\n",
        "mini =arr[0]\n",
        "result=0\n",
        "# print(max,min)\n",
        "for i in range(1,len(arr)):\n",
        "    maxi = max(maxi * arr[i], mini * arr[i], arr[i])\n",
        "    mini = min(maxi*arr[i],mini*arr[i],arr[i])\n",
        "    result = max(result,maxi,mini)\n",
        "\n",
        "result"
      ],
      "execution_count": null,
      "outputs": [
        {
          "output_type": "execute_result",
          "data": {
            "text/plain": [
              "64"
            ]
          },
          "metadata": {},
          "execution_count": 2
        }
      ]
    },
    {
      "cell_type": "code",
      "metadata": {
        "id": "08wWGVv2oDft"
      },
      "source": [
        "arr=[1,2,3]"
      ],
      "execution_count": null,
      "outputs": []
    },
    {
      "cell_type": "code",
      "metadata": {
        "colab": {
          "base_uri": "https://localhost:8080/"
        },
        "id": "t_Y7BY64yxjh",
        "outputId": "80efeff6-2ff1-442f-b438-b1c26da6724d"
      },
      "source": [
        "def comb(n,k):\n",
        "    \"\"\"type: int\"\"\"\n",
        "    \"\"\"rtype: arr\"\"\"\n",
        "\n",
        "    result=[]\n",
        "    def rec(i,arr):\n",
        "        if len(arr) == k:\n",
        "            result.append(arr.copy())\n",
        "            # print(result)\n",
        "            return\n",
        "        for i in range(i,n+1):\n",
        "            arr.append(i)\n",
        "            rec(i+1,arr)\n",
        "            arr.pop()\n",
        "    rec(1,[])\n",
        "    return result\n",
        "comb(3,2)"
      ],
      "execution_count": null,
      "outputs": [
        {
          "output_type": "execute_result",
          "data": {
            "text/plain": [
              "[[1, 2], [1, 3], [2, 3]]"
            ]
          },
          "metadata": {},
          "execution_count": 58
        }
      ]
    },
    {
      "cell_type": "code",
      "metadata": {
        "colab": {
          "base_uri": "https://localhost:8080/"
        },
        "id": "_FIyKtXK2MpB",
        "outputId": "42e3216a-a3b0-40f4-8938-41de86f4a563"
      },
      "source": [
        "def comb(lst,k):\n",
        "    \"\"\"type: arr\"\"\"\n",
        "    \"\"\"rtype: arr\"\"\"\n",
        "\n",
        "    result=[]\n",
        "    def rec(i,arr):\n",
        "        if len(arr) == k:\n",
        "            result.append(arr.copy())\n",
        "            # print(result)\n",
        "            return\n",
        "        for i in range(i,len(lst)):\n",
        "            arr.append(lst[i])\n",
        "            rec(i+1,arr)\n",
        "            arr.pop()\n",
        "    rec(0,[])\n",
        "    return result\n",
        "\n",
        "comb([1,2,3,4],2)"
      ],
      "execution_count": null,
      "outputs": [
        {
          "output_type": "execute_result",
          "data": {
            "text/plain": [
              "[[1, 2], [1, 3], [1, 4], [2, 3], [2, 4], [3, 4]]"
            ]
          },
          "metadata": {},
          "execution_count": 63
        }
      ]
    },
    {
      "cell_type": "code",
      "metadata": {
        "id": "9VEJ274z38Mi"
      },
      "source": [
        "\"\"\" unique subsets\"\"\"\n",
        "\n",
        "def subset(arr):\n",
        "    \"\"\" type: arr\"\"\"\n",
        "    \"\"\"rtype:arr\"\"\"\n",
        "\n",
        "    result = []\n",
        "    def backtrack(i,sub_set):\n",
        "        if i >= len(arr):\n",
        "            result.append(sub_set.copy())\n",
        "            print(sub_set)\n",
        "            # print(result)\n",
        "            return\n",
        "        for i in range(i,len(arr)):\n",
        "            sub_set.append(arr[i])\n",
        "            backtrack(i+1,sub_set)\n",
        "            sub_set.pop()\n",
        "            backtrack(i+1,sub_set)\n",
        "    backtrack(0,[])\n",
        "    return result"
      ],
      "execution_count": null,
      "outputs": []
    },
    {
      "cell_type": "code",
      "metadata": {
        "colab": {
          "base_uri": "https://localhost:8080/"
        },
        "id": "nzCFuo4METzp",
        "outputId": "4f931604-8fe1-4efb-a229-d136fa8700c8"
      },
      "source": [
        "subset([1])"
      ],
      "execution_count": null,
      "outputs": [
        {
          "output_type": "stream",
          "name": "stdout",
          "text": [
            "[1]\n",
            "[]\n"
          ]
        },
        {
          "output_type": "execute_result",
          "data": {
            "text/plain": [
              "[[1], []]"
            ]
          },
          "metadata": {},
          "execution_count": 89
        }
      ]
    },
    {
      "cell_type": "code",
      "metadata": {
        "colab": {
          "base_uri": "https://localhost:8080/"
        },
        "id": "jbFAEyjTFD_v",
        "outputId": "dbccbf6c-02b0-41c9-b2b6-5877466f7b29"
      },
      "source": [
        "\"\"\"check-valid-shuffle-of-strings\"\"\"\n",
        "def validString(s1:str,s2:str,s:str)->bool:\n",
        "    if len(s)!= len(s1)+len(s2):\n",
        "        return False\n",
        "    right=0\n",
        "    s1c=0\n",
        "    i=0\n",
        "    while i<len(s1):\n",
        "        # print(right,s[right])\n",
        "        if s1[i] == s[right]:\n",
        "            # print(s[right],s1[i])\n",
        "            right+=1;\n",
        "            i+=1; \n",
        "            s1c+=1\n",
        "        else:\n",
        "            right+=1\n",
        "\n",
        "    right=0\n",
        "    s2c=0\n",
        "    i=0\n",
        "    while i<len(s2):\n",
        "        # print(right,s[right])\n",
        "        if s2[i] == s[right]:\n",
        "            # print(s[right],s1[i])\n",
        "            right+=1;\n",
        "            i+=1; \n",
        "            s2c+=1\n",
        "        else:\n",
        "            right+=1\n",
        "        \n",
        "    if len(s1)== s1c and len(s2)==s2c:\n",
        "        return  True\n",
        "    return False\n",
        "        \n",
        "    \n",
        "validString(\"12\",\"x2y\",\"1x2yp\")"
      ],
      "execution_count": null,
      "outputs": [
        {
          "output_type": "execute_result",
          "data": {
            "text/plain": [
              "True"
            ]
          },
          "metadata": {},
          "execution_count": 123
        }
      ]
    },
    {
      "cell_type": "code",
      "metadata": {
        "colab": {
          "base_uri": "https://localhost:8080/",
          "height": 35
        },
        "id": "q85PoUzMNUGK",
        "outputId": "4e9c6986-d200-4b9b-d396-4af4a5c9e660"
      },
      "source": [
        "\"\"\"\n",
        "\n",
        "# 12 x2y\n",
        "\n",
        "# 12x2y\n",
        "# 1x2yp\n",
        "\"\"\""
      ],
      "execution_count": null,
      "outputs": [
        {
          "output_type": "execute_result",
          "data": {
            "application/vnd.google.colaboratory.intrinsic+json": {
              "type": "string"
            },
            "text/plain": [
              "'\\n12x2y\\n12 x2y\\n1x2yp\\n'"
            ]
          },
          "metadata": {},
          "execution_count": 117
        }
      ]
    },
    {
      "cell_type": "code",
      "metadata": {
        "colab": {
          "base_uri": "https://localhost:8080/"
        },
        "id": "hxW8nUHMYbeN",
        "outputId": "ba296b63-043d-4c8d-ab65-454ec2b47c70"
      },
      "source": [
        "s=\"   -4\"\n",
        "\n",
        "r=s.strip()\n",
        "r=int(r)\n",
        "if -2**31< r <2**31:\n",
        "    print(r)"
      ],
      "execution_count": null,
      "outputs": [
        {
          "output_type": "stream",
          "name": "stdout",
          "text": [
            "-4\n"
          ]
        }
      ]
    },
    {
      "cell_type": "code",
      "metadata": {
        "colab": {
          "base_uri": "https://localhost:8080/"
        },
        "id": "-GBOzj-qPkF2",
        "outputId": "5172fc2b-08e7-4521-ce4b-b2788268ca9c"
      },
      "source": [
        "# sorting using only for loops\n",
        "\n",
        "# insertion sort\n",
        "\n",
        "def insertion(arr):\n",
        "    for i in range(1,len(arr)):\n",
        "        for j in range(i,0,-1):\n",
        "            if arr[j] < arr[j-1] :\n",
        "                arr[j],arr[j-1]=arr[j-1],arr[j]\n",
        "                \n",
        "    print(arr)\n",
        "    return arr\n",
        "\n",
        "insertion([0,7,8,-99,2,1,-2])\n",
        "\n",
        "# bubble sort\n",
        "\n",
        "def bubble(arr):\n",
        "    for i in range(len(arr)-1,0,-1):\n",
        "        for j in range(i):\n",
        "            if arr[j] > arr[j+1] :\n",
        "                arr[j],arr[j+1]=arr[j+1],arr[j]\n",
        "                \n",
        "    print(arr)\n",
        "    return arr\n",
        "\n",
        "bubble([0,7,8,-99,2,1,2])\n",
        "\n",
        "\n",
        "# selection sort\n",
        "\n",
        "def selection(arr):\n",
        "    for i in range(len(arr)-1):\n",
        "        key = i\n",
        "        for j in range(i+1,len(arr)):\n",
        "            if arr[j] < arr[key] :\n",
        "                key = j\n",
        "        arr[i],arr[key]=arr[key],arr[i]\n",
        "    print(arr)\n",
        "    # return arr\n",
        "\n",
        "\n",
        "selection([2,1,2])"
      ],
      "execution_count": null,
      "outputs": [
        {
          "output_type": "stream",
          "name": "stdout",
          "text": [
            "[-99, -2, 0, 1, 2, 7, 8]\n",
            "[-99, 0, 1, 2, 2, 7, 8]\n",
            "[1, 2, 2]\n"
          ]
        }
      ]
    },
    {
      "cell_type": "code",
      "metadata": {
        "colab": {
          "base_uri": "https://localhost:8080/"
        },
        "id": "RDC7lNcyU-IS",
        "outputId": "4b4b0b6a-8927-420a-af8a-584deb2e36a0"
      },
      "source": [
        "# ugly number\n",
        "\n",
        "def ugly_number(n):\n",
        "    nthNum = [1]*n\n",
        "    count = [1,1,1]\n",
        "    for i in range (1,n):\n",
        "        nthNum[i] = min(count[0]*2,count[1]*3, count[2]*5)\n",
        "        if nthNum[i]  == count[0]*2 : count[0]+= 1\n",
        "        if nthNum[i]  == count[1]*3 : count[1]+= 1\n",
        "        if nthNum[i]  == count[2]*5 : count[2]+= 1\n",
        "    return nthNum,count\n",
        "\n",
        "ugly_number(11)"
      ],
      "execution_count": null,
      "outputs": [
        {
          "output_type": "execute_result",
          "data": {
            "text/plain": [
              "([1, 2, 3, 4, 5, 6, 8, 9, 10, 12, 14], [8, 5, 3])"
            ]
          },
          "metadata": {},
          "execution_count": 64
        }
      ]
    },
    {
      "cell_type": "code",
      "metadata": {
        "colab": {
          "base_uri": "https://localhost:8080/"
        },
        "id": "czIJ2FQpfQDp",
        "outputId": "ca5855d8-ba54-4ae4-ad40-f9da56bd709c"
      },
      "source": [
        "def nthUglyNumber( n):\n",
        "    k = [0] * n\n",
        "    t1 = t2 = t3 = 0\n",
        "    k[0] = 1\n",
        "    for i in range(1,n):\n",
        "        k[i] = min(k[t1]*2,k[t2]*3,k[t3]*5)\n",
        "        if(k[i] == k[t1]*2): t1 += 1\n",
        "        if(k[i] == k[t2]*3): t2 += 1\n",
        "        if(k[i] == k[t3]*5): t3 += 1\n",
        "    return k\n",
        "nthUglyNumber(11)"
      ],
      "execution_count": null,
      "outputs": [
        {
          "output_type": "execute_result",
          "data": {
            "text/plain": [
              "[1, 2, 3, 4, 5, 6, 8, 9, 10, 12, 15]"
            ]
          },
          "metadata": {},
          "execution_count": 6
        }
      ]
    },
    {
      "cell_type": "code",
      "metadata": {
        "colab": {
          "base_uri": "https://localhost:8080/"
        },
        "id": "yrTjAEPQkhp0",
        "outputId": "3509ea0a-8f82-4b87-c1e5-e88128225ea4"
      },
      "source": [
        "def reverse_stack(arr):\n",
        "    if arr == []:\n",
        "        return\n",
        "    temp = arr.pop(0)\n",
        "    reverse_stack(arr)\n",
        "    arr.append(temp)\n",
        "    return arr\n",
        "reverse_stack([1,2,3,4])"
      ],
      "execution_count": null,
      "outputs": [
        {
          "output_type": "execute_result",
          "data": {
            "text/plain": [
              "[4, 3, 2, 1]"
            ]
          },
          "metadata": {},
          "execution_count": 23
        }
      ]
    },
    {
      "cell_type": "code",
      "metadata": {
        "id": "hIW34dfystMk",
        "colab": {
          "base_uri": "https://localhost:8080/"
        },
        "outputId": "9148074b-a043-4391-e11e-e69d6d9399b9"
      },
      "source": [
        "# bit - manipulation\n",
        "def lonelyinteger(a):\n",
        "    # Write your code here\n",
        "    res = ord(a[0])\n",
        "    for i in a[1:]:\n",
        "        res ^= ord(i)\n",
        "    return res\n",
        "\n",
        "lonelyinteger(['a','a','b','b','c','c','3','5','5'])\n",
        "# 32 16 0 0 2 1\n",
        "# 1  1  0 0 1 1\n",
        "\n",
        "# 0 1 1 0 0 1\n",
        "# 0 16 8 0 0 1\n",
        "\n",
        "# 17<<1"
      ],
      "execution_count": null,
      "outputs": [
        {
          "output_type": "execute_result",
          "data": {
            "text/plain": [
              "51"
            ]
          },
          "metadata": {},
          "execution_count": 28
        }
      ]
    },
    {
      "cell_type": "code",
      "metadata": {
        "id": "K3Mfn1Gfx1am"
      },
      "source": [
        "class Node:\n",
        "    def __init__(self,val):\n",
        "        self.val = val\n",
        "        self.left = None\n",
        "        self.right = None\n",
        "        "
      ],
      "execution_count": 1,
      "outputs": []
    },
    {
      "cell_type": "code",
      "metadata": {
        "id": "Kzf8T1z41PE5"
      },
      "source": [
        "class BT:\n",
        "    def __init__(self):\n",
        "        self.root  = None\n",
        "\n",
        "    def push(self,val):\n",
        "        node = Node(val)\n",
        "        if self.root is None:\n",
        "            self.root = node\n",
        "            return\n",
        "\n",
        "        child = self.root    \n",
        "        while child:\n",
        "            if child.left is None:\n",
        "                child.left = node\n",
        "                return\n",
        "            elif child.right is None:\n",
        "                child.right = node\n",
        "                return\n",
        "            child = child.left\n",
        "        # self.root = node\n",
        "\n",
        "    def traverse(self):\n",
        "        if self.root is None:\n",
        "            return 'No value available'\n",
        "        stack = []\n",
        "        child = self.root\n",
        "        # stack.append(child.val)\n",
        "\n",
        "        while stack or child:\n",
        "            if child :\n",
        "                stack.append(child)\n",
        "                # print(child.val)\n",
        "                child = child.left\n",
        "                \n",
        "            else :\n",
        "                child = stack[-1]\n",
        "                stack.pop()\n",
        "                print(child.val)\n",
        "                child = child.right\n",
        "    def trav(self):\n",
        "        if self.root is None:\n",
        "            return \"No value available\"\n",
        "\n",
        "        child = self.root\n",
        "        def recur(child):\n",
        "            if child is None:\n",
        "                return\n",
        "            recur(child.left)\n",
        "            print(child.val)\n",
        "            recur (child.right)\n",
        "\n",
        "        recur(child)"
      ],
      "execution_count": 17,
      "outputs": []
    },
    {
      "cell_type": "code",
      "metadata": {
        "id": "EaZ0DgTb9NS3"
      },
      "source": [
        "bt = BT()\n",
        "bt.push(7)\n",
        "bt.push(8)\n",
        "bt.push(9)\n",
        "bt.push(3)\n",
        "bt.push(2)\n",
        "bt.push(24)\n",
        "bt.push(4)\n"
      ],
      "execution_count": 18,
      "outputs": []
    },
    {
      "cell_type": "code",
      "metadata": {
        "colab": {
          "base_uri": "https://localhost:8080/"
        },
        "id": "bKXv1ecE-l7q",
        "outputId": "20dd8765-1a87-43ea-e5c3-b88c52599f3a"
      },
      "source": [
        "bt.traverse()"
      ],
      "execution_count": 19,
      "outputs": [
        {
          "output_type": "stream",
          "name": "stdout",
          "text": [
            "24\n",
            "3\n",
            "4\n",
            "8\n",
            "2\n",
            "7\n",
            "9\n"
          ]
        }
      ]
    },
    {
      "cell_type": "code",
      "metadata": {
        "id": "5N1uzjNI_62O",
        "colab": {
          "base_uri": "https://localhost:8080/"
        },
        "outputId": "3756eacd-58db-4913-b2ca-770e5bc167f3"
      },
      "source": [
        "bt.trav()"
      ],
      "execution_count": 20,
      "outputs": [
        {
          "output_type": "stream",
          "name": "stdout",
          "text": [
            "24\n",
            "3\n",
            "4\n",
            "8\n",
            "2\n",
            "7\n",
            "9\n"
          ]
        }
      ]
    },
    {
      "cell_type": "code",
      "metadata": {
        "id": "3exZ1S3wqt41"
      },
      "source": [
        ""
      ],
      "execution_count": null,
      "outputs": []
    }
  ]
}